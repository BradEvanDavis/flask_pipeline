{
 "cells": [
  {
   "cell_type": "code",
   "execution_count": 1,
   "metadata": {},
   "outputs": [
    {
     "name": "stderr",
     "output_type": "stream",
     "text": [
      "/home/brad/anaconda3/envs/generic/lib/python3.7/site-packages/sklearn/externals/joblib/__init__.py:15: DeprecationWarning:\n",
      "\n",
      "sklearn.externals.joblib is deprecated in 0.21 and will be removed in 0.23. Please import this functionality directly from joblib, which can be installed with: pip install joblib. If this warning is raised when loading pickled models, you may need to re-serialize those models with scikit-learn 0.21+.\n",
      "\n",
      "[nltk_data] Downloading package punkt to /home/brad/nltk_data...\n",
      "[nltk_data]   Package punkt is already up-to-date!\n",
      "[nltk_data] Downloading package wordnet to /home/brad/nltk_data...\n",
      "[nltk_data]   Package wordnet is already up-to-date!\n",
      "[nltk_data] Downloading package averaged_perceptron_tagger to\n",
      "[nltk_data]     /home/brad/nltk_data...\n",
      "[nltk_data]   Package averaged_perceptron_tagger is already up-to-\n",
      "[nltk_data]       date!\n",
      "/home/brad/anaconda3/envs/generic/lib/python3.7/site-packages/sklearn/base.py:306: UserWarning:\n",
      "\n",
      "Trying to unpickle estimator CountVectorizer from version 0.19.1 when using version 0.21.3. This might lead to breaking code or invalid results. Use at your own risk.\n",
      "\n",
      "/home/brad/anaconda3/envs/generic/lib/python3.7/site-packages/sklearn/base.py:306: UserWarning:\n",
      "\n",
      "Trying to unpickle estimator TfidfTransformer from version 0.19.1 when using version 0.21.3. This might lead to breaking code or invalid results. Use at your own risk.\n",
      "\n",
      "/home/brad/anaconda3/envs/generic/lib/python3.7/site-packages/sklearn/base.py:306: UserWarning:\n",
      "\n",
      "Trying to unpickle estimator Pipeline from version 0.19.1 when using version 0.21.3. This might lead to breaking code or invalid results. Use at your own risk.\n",
      "\n",
      "/home/brad/anaconda3/envs/generic/lib/python3.7/site-packages/sklearn/base.py:306: UserWarning:\n",
      "\n",
      "Trying to unpickle estimator FeatureUnion from version 0.19.1 when using version 0.21.3. This might lead to breaking code or invalid results. Use at your own risk.\n",
      "\n",
      "/home/brad/anaconda3/envs/generic/lib/python3.7/site-packages/sklearn/base.py:306: UserWarning:\n",
      "\n",
      "Trying to unpickle estimator AdaBoostClassifier from version 0.19.1 when using version 0.21.3. This might lead to breaking code or invalid results. Use at your own risk.\n",
      "\n",
      "/home/brad/anaconda3/envs/generic/lib/python3.7/site-packages/sklearn/base.py:306: UserWarning:\n",
      "\n",
      "Trying to unpickle estimator DecisionTreeClassifier from version 0.19.1 when using version 0.21.3. This might lead to breaking code or invalid results. Use at your own risk.\n",
      "\n",
      "/home/brad/anaconda3/envs/generic/lib/python3.7/site-packages/sklearn/base.py:306: UserWarning:\n",
      "\n",
      "Trying to unpickle estimator MultiOutputClassifier from version 0.19.1 when using version 0.21.3. This might lead to breaking code or invalid results. Use at your own risk.\n",
      "\n"
     ]
    }
   ],
   "source": [
    "import json\n",
    "import plotly\n",
    "import pandas as pd\n",
    "\n",
    "from nltk.stem import WordNetLemmatizer\n",
    "from nltk.tokenize import word_tokenize\n",
    "\n",
    "from flask import Flask\n",
    "from flask import render_template, request, jsonify\n",
    "from plotly.graph_objs import Bar\n",
    "from sklearn.externals import joblib\n",
    "from sqlalchemy import create_engine\n",
    "from ml_pipeline import StartingVerbExtractor\n",
    "\n",
    "app = Flask(__name__)\n",
    "\n",
    "\n",
    "def tokenize(text):\n",
    "    tokens = word_tokenize(text)\n",
    "    lemmatizer = WordNetLemmatizer()\n",
    "\n",
    "    clean_tokens = []\n",
    "    for tok in tokens:\n",
    "        clean_tok = lemmatizer.lemmatize(tok).lower().strip()\n",
    "        clean_tokens.append(clean_tok)\n",
    "\n",
    "    return clean_tokens\n",
    "\n",
    "# load data\n",
    "engine = create_engine('sqlite:///../data/DisasterDatabase.db')\n",
    "df = pd.read_sql_table(table_name='Disaster', con=engine)\n",
    "\n",
    "# load model\n",
    "model = joblib.load(\"../models/classifier.pkl\")\n",
    "\n",
    "\n",
    "# index webpage displays cool visuals and receives user input text for model\n",
    "@app.route('/')\n",
    "@app.route('/index')\n",
    "def index():\n",
    "    \n",
    "    # extract data needed for visuals\n",
    "    # TODO: Below is an example - modify to extract data for your own visuals\n",
    "    genre_counts = df.groupby('genre').count()['message']\n",
    "    genre_names = list(genre_counts.index)"
   ]
  },
  {
   "cell_type": "code",
   "execution_count": 2,
   "metadata": {},
   "outputs": [
    {
     "data": {
      "text/plain": [
       "Index(['id', 'message', 'original', 'genre', 'related', 'request', 'offer',\n",
       "       'aid_related', 'medical_help', 'medical_products', 'search_and_rescue',\n",
       "       'security', 'military', 'child_alone', 'water', 'food', 'shelter',\n",
       "       'clothing', 'money', 'missing_people', 'refugees', 'death', 'other_aid',\n",
       "       'infrastructure_related', 'transport', 'buildings', 'electricity',\n",
       "       'tools', 'hospitals', 'shops', 'aid_centers', 'other_infrastructure',\n",
       "       'weather_related', 'floods', 'storm', 'fire', 'earthquake', 'cold',\n",
       "       'other_weather', 'direct_report'],\n",
       "      dtype='object')"
      ]
     },
     "execution_count": 2,
     "metadata": {},
     "output_type": "execute_result"
    }
   ],
   "source": [
    "df.columns"
   ]
  },
  {
   "cell_type": "code",
   "execution_count": null,
   "metadata": {},
   "outputs": [],
   "source": []
  }
 ],
 "metadata": {
  "kernelspec": {
   "display_name": "Python 3",
   "language": "python",
   "name": "python3"
  },
  "language_info": {
   "codemirror_mode": {
    "name": "ipython",
    "version": 3
   },
   "file_extension": ".py",
   "mimetype": "text/x-python",
   "name": "python",
   "nbconvert_exporter": "python",
   "pygments_lexer": "ipython3",
   "version": "3.7.4"
  }
 },
 "nbformat": 4,
 "nbformat_minor": 2
}
